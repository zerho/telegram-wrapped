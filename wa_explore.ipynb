{
 "cells": [
  {
   "cell_type": "markdown",
   "metadata": {},
   "source": [
    "Connected to 3.8.0 (Python 3.8.0)"
   ]
  },
  {
   "cell_type": "markdown",
   "metadata": {},
   "source": [
    "# Whatsapp Wrapped\n",
    "\n",
    "Always import first pandas and load data from file"
   ]
  },
  {
   "cell_type": "code",
   "execution_count": 46,
   "metadata": {},
   "outputs": [
    {
     "data": {
      "text/plain": [
       "Index(['date', 'sender', 'text'], dtype='object')"
      ]
     },
     "execution_count": 46,
     "metadata": {},
     "output_type": "execute_result"
    }
   ],
   "source": [
    "import pandas as pd\n",
    "\n",
    "df_wa = pd.read_csv('./exports/mino_chat_formatted_converted.csv') \n",
    "\n",
    "df_wa.columns"
   ]
  },
  {
   "cell_type": "markdown",
   "metadata": {},
   "source": [
    "### WhatsAnalyse \n",
    "_Let's recreate the first page of the WhatsAnalyse project as exercise and inspiration_"
   ]
  },
  {
   "cell_type": "code",
   "execution_count": null,
   "metadata": {},
   "outputs": [],
   "source": [
    "\n",
    "\n",
    "firstDay = pd.to_datetime(df_wa['date'].min())\n",
    "lastDay = pd.to_datetime(df_wa['date'].max())\n",
    "\n",
    "\n",
    "print(\"In this chat there are:\")\n",
    "\n",
    "print(f\"Date of first message: {firstDay}\") # FIXME: this is wrong, inferring wrong date format?!\n",
    "print(f\"{lastDay - firstDay} days\") # FIXME: ovviamente anche questo è rotto\n",
    "print(f\"{df_wa['sender'].count()} messages\")\n",
    "print(f\"{df_wa['sender'].nunique()} members\")\n",
    "\n",
    "# Count di tutti i messaggi per singolo sender\n",
    "df_wa['sender'].value_counts()"
   ]
  },
  {
   "cell_type": "code",
   "execution_count": null,
   "metadata": {},
   "outputs": [
    {
     "data": {
      "text/plain": [
       "date\n",
       "1      330\n",
       "2      293\n",
       "3      592\n",
       "4      523\n",
       "5      604\n",
       "6      512\n",
       "7      466\n",
       "8      732\n",
       "9      355\n",
       "10     504\n",
       "11     236\n",
       "12    2119\n",
       "Name: date, dtype: int64"
      ]
     },
     "execution_count": 50,
     "metadata": {},
     "output_type": "execute_result"
    }
   ],
   "source": [
    "# Number of messages per month\n",
    "# TODO: now it should be divided by year\n",
    "df_wa['date'] = pd.to_datetime(df_wa['date'], errors='coerce')\n",
    "\n",
    "df_wa.groupby(df_wa.date.dt.month)['date'].count()\n"
   ]
  }
 ],
 "metadata": {
  "kernelspec": {
   "display_name": "3.8.0",
   "language": "python",
   "name": "python3"
  },
  "language_info": {
   "codemirror_mode": {
    "name": "ipython",
    "version": 3
   },
   "file_extension": ".py",
   "mimetype": "text/x-python",
   "name": "python",
   "nbconvert_exporter": "python",
   "pygments_lexer": "ipython3",
   "version": "3.8.0"
  }
 },
 "nbformat": 4,
 "nbformat_minor": 2
}
